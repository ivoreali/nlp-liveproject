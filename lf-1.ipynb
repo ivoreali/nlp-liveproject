{
 "metadata": {
  "language_info": {
   "codemirror_mode": {
    "name": "ipython",
    "version": 3
   },
   "file_extension": ".py",
   "mimetype": "text/x-python",
   "name": "python",
   "nbconvert_exporter": "python",
   "pygments_lexer": "ipython3",
   "version": "3.7.7-final"
  },
  "orig_nbformat": 2,
  "kernelspec": {
   "name": "python3",
   "display_name": "Python 3.7.7 64-bit",
   "metadata": {
    "interpreter": {
     "hash": "df955ce39d0f31d56d4bb2fe0a613e5326ba60723fd33d8303a3aede8f65715c"
    }
   }
  }
 },
 "nbformat": 4,
 "nbformat_minor": 2,
 "cells": [
  {
   "source": [
    "# NLP Live Project\n",
    "\n",
    "The deliverable for this milestone is a Jupyter Notebook documenting your workflow as you take the dataset and segregate the news and their summaries. As mentioned in the instructions, the master list should have a length of 92579. We’ll be further processing these two elements in the next part of the liveProject."
   ],
   "cell_type": "markdown",
   "metadata": {}
  },
  {
   "cell_type": "code",
   "execution_count": 1,
   "metadata": {
    "tags": [
     "outputPrepend"
    ]
   },
   "outputs": [
    {
     "output_type": "stream",
     "name": "stdout",
     "text": [
      "es continuing for several hours\";\\n\\n-- \"Rocket attacks from Kabul city sub-districts or districts outside\";\\n\\n-- \"Infiltration of enemy into the lines of security forces.\"\\n\\nThe statement on the website also said, \"These important secrets which you will see in the below pages have been acquired by Mujahedeen of Islamic Emirate from two ministries and from the special security corps of the government. Our upcoming attacks will become even more lethal and precise with the acquisition of such intelligence material, if God wills it.\"\\n\\nThe statement went on to promise further details: \"Note -- The original security plans which consist of 28 pages and six pictorial maps have been recomposed and rewritten by us for intelligence and policy purposes. We will release the second, third, 28th sides of the plan and a map to show its validation and will also release the pictorial part of it in the near future, if Allah Wills it.\"\\n\\nNATO\\'s International Security Assistance Force was aware of the message on the website, but could not confirm the accuracy of it, spokesman Lt. Col. Jimmie Cummings said.\\n\\n\"The Taliban have said they would go to all extremes to disrupt the loya jirga,\" he said.', 'summaries': ['The Taliban says it has detailed security plans of upcoming meeting with tribal elders', \"The government has dismissed the Taliban's claims\", 'The meeting, known as the loya jirga, is considered significant', \"Afghanistan's relationship with the U.S. and peace talks are among the topics to be discussed\"]}\n",
      "{'news': 'WEIMAR, Germany (CNN) -- A long narrow road winds through a thick forest up a hill called the \"Ettesberg,\" on the outskirts of Weimar in central Germany.\\n\\nThe ovens where tens of thousands of bodies were cremated are restored and working.\\n\\nThe road goes on for miles through the forest, but every once in a while you see an old railway station, a tower, or an old structure withering in the German rain.\\n\\nThis road was named \"the trail of blood,\" by inmates of the infamous concentration camp Buchenwald, because of the death marches they were forced to undertake as they were deported to work as slave laborers for Nazi Germany\\'s defense industry from 1937 to 1945.\\n\\n\"The trail of blood\" leads straight to the entrance gate of the former concentration camp -- a structure with a huge iron gate in the middle, a tower with a clock above, and arrest cells in the building\\'s wings.\\n\\nU.S. troops saw the horror of the Nazi regime first hand when they came through this gate on April 11, 1945, and found camp inmates starved to the bone, many too weak to stand.\\n\\n\"We couldn\\'t even show our joy at this moment, which we had been waiting for so long,\" said former inmate Zeev Factor, recalling the day American troops came to liberate the camp.\\n\\nNow the camp is getting ready to host President Obama, who has a special relationship with Buchenwald. His great-uncle Charlie Payne, 84, helped liberate a sub-camp here when he was an infantryman fighting in World War II.\\n\\n\"The survivors see President Obama almost like a grandson of theirs,\" said the director of the Buchenwald memorial, Volker Knigge, speaking just outside the front gate.\\n\\n\"The president is related to one of the brave men who came here and saw the Nazi horror first hand. The soldiers only had vague knowledge of what concentration camps actually were, but here they saw people too weak to survive, even after having been liberated.\"\\n\\nHistorians estimate that of the 20,000 inmates who were liberated by U.S. troops, 1,000 died shortly after because of exhaustion and the effects of years of starvation.\\n\\nIt is easy to see why. Every building in the Buchenwald complex radiates death, suffering and evil.\\n\\nIn the crematorium, where tens of thousands of bodies were burned, the ovens have been restored and are fully functional.\\n\\nIn a cellar below the cremation room, meat hooks in the walls were used by SS guards to hang and strangle more than 1,000 inmates, many of them women and children.\\n\\nObama will see these testimonies to the barbarism of the Nazis when he takes a tour of the camp with German Chancellor Angela Merkel. He will also meet some of the survivors who Volker Knigge says feel so close to this president.', 'summaries': ['President Obama visits Buchenwald concentration camp, Germany, on Friday', \"His great-uncle helped liberate one of the complex's sub-camps during WWII\", 'Director of Buchenwald camp memorial: Survivors see Obama as a grandson', 'Obama will meet some camp survivors during his visit']}\n",
      "{'news': 'When James Theodorou reflects on mistakes from past jobs, he cringes to think about the role he played in printing 4 million copies of a well-known U.S. magazine with the wrong date on the cover.\\n\\nIt was the early 1980s and Theodorou was working as an offset stripper, who performs platemaking and stripping for presses. He said he could only wait in horror as his little mistake was distributed across the country.\\n\\nThe memory is burned into his brain. It resurfaced earlier this month when he learned of the nurse in the United Kingdom who put through a prank call from two Australian DJs to the ward where Prince William\\'s wife, Catherine, Duchess of Cambridge, was being treated for acute morning sickness.\\n\\nWho was nurse Jacintha Saldanha?\\n\\nWhile the circumstances of the nurse\\'s death remain unclear, the incident prompted Theodorou and many other CNN.com readers to share stories of dealing with stressful situations on the job, making mistakes and moving on.\\n\\nMistakes are an opportunity to see how you can do something differently, said commenter RealityChk101, a software engineer from North Dakota who has had \"code blow up in my face several times, sometimes with disastrous results,\" he said.\\n\\n\"In almost every case I have had to take the action of documenting every little thing that went wrong, why it went wrong and how this was never going to happen again.\"\\n\\nThe commenter, who asked not to have his real name used, said he once was mortified to find that he had somehow stripped last names from everyone in a database. His co-workers made up a song about him, to the tune of \"Candy Man,\" asking \"Who can take the last name, and throw it all away?\"\\n\\nAfter his initial panicked reaction, he calmed down and came up with ways to rectify the situation.\\n\\n\"I spent two days calling those 500 people, getting their last names,\" he said. \"Management figured that was punishment enough.\"\\n\\nThe commenter said his situation pales in comparison to the stress nurses and hospital workers deal with daily, where lives are at stake.\\n\\n\"Hospitals are by their nature a stressful place: you have births, sickness and death, all under one roof,\" he said. \"Caregivers are bombarded by every type of emotion on a daily basis.\"\\n\\nThe incident caused him to fear that he would lose his job. But talking to co-workers proved to be helpful, he said.\\n\\n\"In most of those cases, my co-workers were supportive, and when I needed more support, I just unloaded emotionally on my wife of 33 years.\"\\n\\nSeeking support from others can be helpful, especially in cases where you think you might be in danger of losing your job, said Christine Porath, associate professor of management at Georgetown University. They may help you see things differently.\\n\\nPorath said people of all occupations often place their self worth in their jobs because they see them as much more than a task.\\n\\n\"Their heart and soul is in their job, so their identity is wrapped in it, which is great, but when your job is threatened or you make a mistake, that makes it all the more harder.\"\\n\\nIt helps to get a bit of perspective on the situation by disengaging and \"stepping away from the workplace to focus on everything else that you have,\" she said.\\n\\n\"I think it makes the support aspect all the more important. You really need to focus on other parts of your life.\"\\n\\nEmployers also benefit from keeping their employees happy, said Porath, who researches the effects of incivility in the workplace. Most people are focused on the outward display of anger and far less aware of the devastating effects of being afraid or sad about one\\'s status in the organization, she said.\\n\\nThese latter two emotions are the ones that are more likely to cause people to leave their jobs, she said.\\n\\nSince his first public gaffe, Theodorou said he has learned to handle workplace stress by maintaining an emotional detachment from the task at hand while making decisions.\\n\\n\"By using logic, and following the (standard operating procedures), everything is no longer personal, just business. Even errors. I then go home and engage my hobbies.\"\\n\\nTheodorou had no choice but to try to do better on the next issue of the magazine. He slowed down and went over his work again carefully. He made a checklist and had another technician perform a quality control inspection before starting the four-hour process of printing the covers.\\n\\n\"It only added about 15 minutes to the job, but they were a well-spent 15 minutes,\" he said.\\n\\nCorporate recruiter Steven Raz said the recession can increase people\\'s concerns about doing well at work.\\n\\nHe advised that if you do make a mistake, you should have a plan to correct it. If the mistake is big, get help.\\n\\n\"It\\'s always recommended that if something happens like that, and it\\'s too big to handle, that\\'s when you should bring in your boss,\" Raz said.\\n\\nSome people may be tempted to say nothing, but that can be dangerous, he added.\\n\\n\"If you tell the truth, you don\\'t have to worry about what truth you\\'ve told,\" Raz said.\\n\\nWhat do you think? Have you ever made a big mistake at work or encountered a stressful situation? How did you get through it?\\n\\nShare your views in the comments area below or post video commentary on CNN iReport.\\n\\nLike CNN Living on Facebook', 'summaries': ['Story of nurse who took a prank call prompted commenters to talk about their own errors', 'Making a mistake can be scary, but there are things you can do to improve the outcome', 'What do you think? Share your thoughts in the comments below or post a video on CNN iReport']}\n",
      "{'news': 'During CNN\\'s \"Going Green: Green Light for Business\" coverage, we\\'ve asked businesses to tell us how they balance the imperative for profit with environmental concerns. First up is the co-founder of Hong Kong-based DIAZ Fine Jewelry, Salina Khan Fuchigami, whose business packages cubic zirconia diamonds in an environmental wrapping.\\n\\nGrowing up surrounded by generations of jewelry wearing tradition, I was drawn to the brilliance and transparency of diamonds from an early age. Later, it was the fact that diamonds are a unique resource, evoking beauty and eternal love that lead me to found DIAZ Fine Jewelry.\\n\\nSalina Khan Fuchigami co-founded DIAZ Fine Jewelry with her husband Takashi.\\n\\nHowever, as I began to learn beyond the basics and beauty of diamonds, I began to discover the many environmental and ethical issues related to them. And the once simple wish to create a line of exquisite diamond jewelry grew into a mission -- to create an ecologically and ethically correct jewelry brand.\\n\\nI was one of many who were understandably concerned to learn that jewelry they had as a symbol of love may have come at a terrible human and environmental cost. Although the social and ethical issues associated with conflict diamonds were the impetus at the core of the DIAZ philosophy, the serious environmental impacts of the diamond industry could not be ignored.\\n\\nThere\\'s an undeniable link between the degradation of our global environment and consumer culture. The trouble is that these days, things are so nicely packaged, presented and displayed that we hardly ever question how the raw materials used to produce the goods are extracted and processed. We rarely think of how it all affects the environment and humankind. It\\'s impossible to assess exactly how much devastation one single diamond could have caused before it was cut, polished, set and sold at a high-end retailer. It\\'s hard to imagine what a diamond mine looks like by looking at the \"stunning sparklers\" that are neatly displayed in shop windows. Somewhere along the way it became irrelevant to question the true cost of the stones.\\n\\nDiamond mining practices are not without huge ecological impacts. Whether extracted from a large-scale diamond mine using modern, clinical mining methods, or through small-scale artisanal alluvial diamond digging, the diamond industry faces environmental challenges just as with any mineral extraction. Land disturbance, which involves the shifting of large quantities of soil from the earth, is interlinked with issues of waste and water pollution as well as huge impacts on biodiversity.\\n\\nThrough my company, I knew I could offer an alternative to mined-diamond jewelry of equal beauty and quality -- using lab-created jewels and meticulous craftsmanship -- jewelry that evoked beauty and eternal love, and that was truly transparent.\\n\\nAs with any environmental or ethical issue, education, knowledge and action are the keys to ending unnecessary harm. So, as the business grew, we made sure each of our customers received an info-leaflet with every purchase. We began donating proceeds from our sales to grassroots organizations that ran mine-reclamation projects promoting organic farming and biodiversity in mining towns in Sierra Leone, a country devastated by civil war that was fueled by diamonds and now has a landscape scarred by indiscriminate alluvial diamond mining. We began monitoring the working conditions at our workshop, and looking for more sustainable methods of packaging and delivering our jewelry.\\n\\nWe found that our customers were happy to be a part of a solution and not the problem. The economic downturn, combined with an increasing awareness of the ecological and ethical facts surrounding diamonds, has meant an increase in customers who appreciate affordable luxury without any attached guilt.\\n\\nThere\\'s no doubt that the choices we make and the actions we take today affect the fate of our planet and in turn our well being. With shifting consumer behavior and a changing economic and environmental climate, the time has come where being environmentally conscious is an imperative for all individuals and businesses alike.', 'summaries': ['CNN has asked businesses to explain their concept of \"Going Green\"', 'Jeweler Salina Khan Fuchigami uses cubic zirconia instead of diamonds', 'Khan Fuchigami: \"Diamond mining practices have huge ecological impacts\"', 'Blog series is part of CNN\\'s \"Going Green\" coverage from June 15 to July 10']}\n",
      "{'news': 'Prague, Czech Republic (CNN) -- Fireworks and rock \\'n\\' roll echoed across central Prague on Tuesday as thousands of marchers commemorated the 20th anniversary of the \"Velvet Revolution\" that toppled Communist rule.\\n\\nThe peaceful 1989 uprising began with a student march to mark a 1939 clampdown on opposition in what was then Nazi-occupied Czechoslovakia. It drew 15,000 people -- students as well as teachers, professors and ordinary Czechs who had grown weary of state control.\\n\\nIvan Pilip, one of the students who took part, said the march \"was very different\" from previous demonstrations he had joined.\\n\\n\"There was a different group of people,\" he said. \"We feel that people that participated in such events before had come, and they\\'re ready to do something. And it was more and more visible every minute.\"\\n\\nThe protest was held a week after the opening of the Berlin Wall, as pressure was building on the Communist governments of Eastern Europe. When the demonstrators tried to divert the march to central Prague\\'s Wenceslas Square, they were attacked by police -- a response that led tens of thousands more people to join mass demonstrations that lasted another 10 days.\\n\\n\"My kids cannot understand today what was moving our minds and hearts that day 20 years ago,\" Pilip\\'s wife, Lucie, said Tuesday. \"We watched television today to show them what we had come through these 20 years, and I think it\\'s an enormous success.\"\\n\\nThe protests led to talks between government officials and the Civic Forum, a group of dissidents led by playwright Vaclav Havel. The Communist Party ceded power in December, and Havel became president.\\n\\n\"Many of our citizens who took part in the democratic changes died already with a feeling that they contributed to something that meant a lot,\" Havel said Tuesday. \"In our ordinary, daily lives, we tend to forget our friends of that time -- our comrades, free-thinking individuals.\"\\n\\nThe anniversary march was capped by a concert that featured dissident musicians of the day, along with American folk singer Joan Baez.\\n\\nHavel himself appeared onstage with a guitar, but told the crowd, \"Don\\'t worry, the guitar doesn\\'t mean I\\'m going to play today.\"\\n\\nMusicians, actors and other artists played major roles in the protests. Michael Kocab, now the Czech Republic government\\'s human rights minister, was a rock singer who became the revolutionaries\\' key negotiator.\\n\\n\"In the beginning there was many times this idea, \\'What am I doing here,\\'\" Kocab told CNN recently. \"I knew in the future I\\'d get used to it. And five or 10 days later, I forgot I was a musician and I submerged myself in political negotiations. And I liked it.\"\\n\\nThe celebration was organized by Opona, a nonprofit group established to observe the milestone anniversary of the dismantling of the Iron Curtain.\\n\\n\"Our inspiration to do this was from our memories -- we still remember the times that preceded the events,\" said David Gaydecka, one of the organizers. \"We believe that the changes in those 20 years have been positive despite all those maladies which came along with the freedom.\"\\n\\n-- CNN\\'s Phil Black and Fionnuala Sweeney contributed to this report.', 'summaries': ['Czech students take to the streets to mark 20th anniversary of fall of communist rule', 'Student clashes with police in 1989 triggered events that rid then-Czechoslovakia of totalitarianism', 'The march in 1989 was in memory of the students who perished under the Nazis']}\n",
      "{'news': '(CNN) -- Australian authorities have declared several coastal areas near Brisbane disaster zones after a massive oil spill earlier this week, according to the Queensland government.\\n\\nLarge stretches of Queensland\\'s coastline are being affected by the oil.\\n\\n\"This is a very serious situation,\" Queensland Premier Anna Bligh said, according to a news release on Friday. \"It appears the volume of oil involved is much greater than originally reported by the Pacific Adventurer. And the effect of the oil spill is more widespread.\"\\n\\nThe Pacific Adventurer sustained damage early Wednesday when Cyclone Hamish struck the waters of eastern Australia with more than 125 kph (77 mph) winds. The cargo ship lost 30 of its 50 containers of ammonium nitrate about 13 kilometers (8 miles) off the coast of Cape Moreton. Those containers are still missing.\\n\\nThe damaged ship also spilled a large amount of oil that is covering at least 60 kilometers (37 miles) of beach in and around Brisbane, according to Australian Broadcasting Corporation (ABC).  Watch sludge washing up on shorelines »\\n\\nThe ship\\'s owner, Swire Shipping, initially said no more than 42,000 liters (11,100 U.S. gallons) of oil escaped from the ship, but now says that \"substantially more oil was spilled,\" ABC reported Friday.\\n\\nThe ship is currently in the custody of Australia\\'s Maritime Safety Authority in Brisbane, as the investigation into the spill continues.\\n\\nA massive clean-up effort is also under way. So far, 13 oil-covered birds have been recovered, according to the Queensland government.', 'summaries': ['Pacific Adventurer sustained damage when Cyclone Hamish struck', 'Damaged ship spilled large quantity of oil and chemical cannisters', \"Ship now in the custody of Australia's Maritime Safety Authority\"]}\n"
     ]
    },
    {
     "output_type": "execute_result",
     "data": {
      "text/plain": [
       "92579"
      ]
     },
     "metadata": {},
     "execution_count": 1
    }
   ],
   "source": [
    "# import pathlib to deal with files and paths\n",
    "from pathlib import Path\n",
    "\n",
    "# variable to hold stories folder\n",
    "path = Path.cwd() / 'stories'\n",
    "\n",
    "# initializing master list\n",
    "master_list = []\n",
    "\n",
    "# counting files in stories folder\n",
    "import collections\n",
    "collections.Counter(p.suffix for p in path.iterdir())\n",
    "\n",
    "# defining a function to parse text and write to master list\n",
    "def parse_text(text):\n",
    "    text_split = text.split('@highlight')\n",
    "    news = text_split[0].strip()\n",
    "    strip_list = [item.strip() for item in text_split[1:]]\n",
    "    dict = { \"news\": news , \"summaries\": strip_list }\n",
    "    # print(dict)\n",
    "    master_list.append(dict)\n",
    "\n",
    "# iterating through all files in stories folder\n",
    "for filename in path.iterdir():\n",
    "    if filename.suffix == \".story\":\n",
    "        file = open(filename, 'rt')\n",
    "        text = file.read()\n",
    "        file.close()\n",
    "        parse_text(text)\n",
    "\n",
    "# exporting master list to pkl\n",
    "import pickle\n",
    "with open('master_list.pkl', 'wb') as f:\n",
    "    pickle.dump(master_list, f)\n",
    "\n",
    "#printing size of master list\n",
    "len(master_list)\n",
    "\n",
    "\n",
    "    "
   ]
  },
  {
   "cell_type": "code",
   "execution_count": null,
   "metadata": {},
   "outputs": [],
   "source": [
    "\n",
    "\n"
   ]
  }
 ]
}