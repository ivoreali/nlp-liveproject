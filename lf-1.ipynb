{
 "metadata": {
  "language_info": {
   "codemirror_mode": {
    "name": "ipython",
    "version": 3
   },
   "file_extension": ".py",
   "mimetype": "text/x-python",
   "name": "python",
   "nbconvert_exporter": "python",
   "pygments_lexer": "ipython3",
   "version": "3.7.7-final"
  },
  "orig_nbformat": 2,
  "kernelspec": {
   "name": "python3",
   "display_name": "Python 3.7.7 64-bit",
   "metadata": {
    "interpreter": {
     "hash": "df955ce39d0f31d56d4bb2fe0a613e5326ba60723fd33d8303a3aede8f65715c"
    }
   }
  }
 },
 "nbformat": 4,
 "nbformat_minor": 2,
 "cells": [
  {
   "source": [
    "# NLP Live Project\n",
    "\n",
    "The deliverable for this milestone is a Jupyter Notebook documenting your workflow as you take the dataset and segregate the news and their summaries. As mentioned in the instructions, the master list should have a length of 92579. We’ll be further processing these two elements in the next part of the liveProject."
   ],
   "cell_type": "markdown",
   "metadata": {}
  },
  {
   "cell_type": "code",
   "execution_count": 2,
   "metadata": {
    "tags": []
   },
   "outputs": [
    {
     "output_type": "execute_result",
     "data": {
      "text/plain": [
       "92579"
      ]
     },
     "metadata": {},
     "execution_count": 2
    }
   ],
   "source": [
    "# import pathlib to deal with files and paths\n",
    "from pathlib import Path\n",
    "\n",
    "# variable to hold stories folder\n",
    "path = Path.cwd() / 'stories'\n",
    "\n",
    "# initializing master list\n",
    "master_list = []\n",
    "\n",
    "# counting files in stories folder\n",
    "import collections\n",
    "collections.Counter(p.suffix for p in path.iterdir())\n",
    "\n",
    "# defining a function to parse text and write to master list\n",
    "def parse_text(text):\n",
    "    text_split = text.split('@highlight')\n",
    "    news = text_split[0].strip()\n",
    "    strip_list = [item.strip() for item in text_split[1:]]\n",
    "    dict = { \"news\": news , \"summaries\": strip_list }\n",
    "    # print(dict)\n",
    "    master_list.append(dict)\n",
    "\n",
    "# iterating through all files in stories folder\n",
    "for filename in path.iterdir():\n",
    "    if filename.suffix == \".story\":\n",
    "        file = open(filename, 'rt')\n",
    "        text = file.read()\n",
    "        file.close()\n",
    "        parse_text(text)\n",
    "\n",
    "# exporting master list to pkl\n",
    "import pickle\n",
    "with open('master_list.pkl', 'wb') as f:\n",
    "    pickle.dump(master_list, f)\n",
    "\n",
    "#printing size of master list\n",
    "len(master_list)\n",
    "\n",
    "\n",
    "    "
   ]
  }
 ]
}